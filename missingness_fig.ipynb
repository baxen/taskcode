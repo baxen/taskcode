{
 "cells": [
  {
   "cell_type": "code",
   "execution_count": 1,
   "metadata": {
    "collapsed": true
   },
   "outputs": [],
   "source": [
    "%matplotlib inline\n",
    "import pandas as pd\n",
    "import matplotlib.pyplot as plt\n",
    "import numpy as np\n",
    "import scipy.signal as signal\n",
    "\n",
    "import seaborn as sns\n",
    "sns.set_context('talk')"
   ]
  },
  {
   "cell_type": "code",
   "execution_count": null,
   "metadata": {
    "collapsed": true
   },
   "outputs": [],
   "source": [
    "fname='data/gps_000057.pkl'\n",
    "df = pd.read_pickle(fname)\n",
    "x = df.position_x\n",
    "y = df.position_y\n",
    "t = (df.position_update_timestamp - df.position_update_timestamp.min())/pd.Timedelta('1s')\n",
    "    \n",
    "\n",
    "fig,(ax1,ax2) = plt.subplots(2,figsize=(12,8))\n",
    "ax1.scatter(t,x,alpha=0.2)\n",
    "ax1.set_xlabel('Time')\n",
    "ax1.set_ylabel('X')\n",
    "ax1.set_xlim([-1000,24000])\n",
    "ax2.scatter(t,y,alpha=0.2)\n",
    "    ax2.set_xlabel('Time')\n",
    "    ax2.set_ylabel('Y')"
   ]
  }
 ],
 "metadata": {
  "kernelspec": {
   "display_name": "Python 2",
   "language": "python",
   "name": "python2"
  },
  "language_info": {
   "codemirror_mode": {
    "name": "ipython",
    "version": 2
   },
   "file_extension": ".py",
   "mimetype": "text/x-python",
   "name": "python",
   "nbconvert_exporter": "python",
   "pygments_lexer": "ipython2",
   "version": "2.7.9"
  }
 },
 "nbformat": 4,
 "nbformat_minor": 0
}
