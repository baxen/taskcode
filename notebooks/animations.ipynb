{
 "cells": [
  {
   "cell_type": "code",
   "execution_count": 9,
   "metadata": {
    "collapsed": false
   },
   "outputs": [],
   "source": [
    "import pandas as pd\n",
    "\n",
    "\n",
    "def to_tsv(gps_id):\n",
    "    df = pd.read_pickle('data/gps_{:06d}.pkl'.format(gps_id))\n",
    "    df['x'] = df.position_x\n",
    "    df['y'] = df.position_y\n",
    "    df.to_csv('data_{:06d}.tsv'.format(gps_id), sep='\\t', index=False, columns=['x','y'])\n",
    "    \n",
    "to_tsv(349)\n",
    "to_tsv(378)"
   ]
  }
 ],
 "metadata": {
  "kernelspec": {
   "display_name": "Python 2",
   "language": "python",
   "name": "python2"
  },
  "language_info": {
   "codemirror_mode": {
    "name": "ipython",
    "version": 2
   },
   "file_extension": ".py",
   "mimetype": "text/x-python",
   "name": "python",
   "nbconvert_exporter": "python",
   "pygments_lexer": "ipython2",
   "version": "2.7.11"
  }
 },
 "nbformat": 4,
 "nbformat_minor": 0
}
